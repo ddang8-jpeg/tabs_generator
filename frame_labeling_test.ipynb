{
 "cells": [
  {
   "cell_type": "code",
   "execution_count": 2,
   "metadata": {},
   "outputs": [
    {
     "name": "stderr",
     "output_type": "stream",
     "text": [
      "t:  25%|██▌       | 46/182 [02:28<07:05,  3.13s/it, now=None]"
     ]
    },
    {
     "name": "stdout",
     "output_type": "stream",
     "text": [
      "Moviepy - Writing frames ../data/new_dataset/garrett_amogus/1_%d.jpg.\n"
     ]
    },
    {
     "name": "stderr",
     "output_type": "stream",
     "text": [
      "t:  25%|██▌       | 46/182 [02:32<07:05,  3.13s/it, now=None]"
     ]
    },
    {
     "name": "stdout",
     "output_type": "stream",
     "text": [
      "Moviepy - Done writing frames ../data/new_dataset/garrett_amogus/1_%d.jpg.\n"
     ]
    }
   ],
   "source": [
    "import os\n",
    "from moviepy.editor import *\n",
    "\n",
    "datapath = \"../data/\"\n",
    "video_path = os.path.join(datapath, \"videos\")\n",
    "dest_path = os.path.join(datapath, \"new_dataset\", \"garrett_amogus\")\n",
    "video_fns = os.listdir(video_path)\n",
    "\n",
    "for i, fn in enumerate(video_fns):\n",
    "    if \"amogus\" in fn:\n",
    "        video = VideoFileClip(os.path.join(video_path, fn))\n",
    "        fps = video.fps\n",
    "        name_str = f\"{i}_\"\n",
    "        names = video.write_images_sequence(os.path.join(dest_path, name_str + \"%d.jpg\"))\n"
   ]
  },
  {
   "cell_type": "code",
   "execution_count": 4,
   "metadata": {},
   "outputs": [],
   "source": [
    "import numpy as np\n",
    "\n",
    "times = [1,2,3,4,5]\n",
    "notes = [[\"D\", \"A\"], [\"D\"], [\"A\"], [], [\"C\", \"A\", \"B\"]]\n",
    "out = [[], []]\n",
    "for i in range(len(times)):\n",
    "    for j, note in enumerate(notes[i]):\n",
    "        out[0].append(times[i])\n",
    "        out[1].append(note)\n",
    "\n",
    "arr_out = np.asarray(out).T\n",
    "np.savetxt(\"test.csv\", arr_out, fmt=\"%s\")"
   ]
  }
 ],
 "metadata": {
  "kernelspec": {
   "display_name": "base",
   "language": "python",
   "name": "python3"
  },
  "language_info": {
   "codemirror_mode": {
    "name": "ipython",
    "version": 3
   },
   "file_extension": ".py",
   "mimetype": "text/x-python",
   "name": "python",
   "nbconvert_exporter": "python",
   "pygments_lexer": "ipython3",
   "version": "3.9.7"
  }
 },
 "nbformat": 4,
 "nbformat_minor": 2
}
