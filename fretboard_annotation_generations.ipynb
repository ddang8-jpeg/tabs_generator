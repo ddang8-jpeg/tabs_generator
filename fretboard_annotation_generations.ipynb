{
 "cells": [
  {
   "cell_type": "code",
   "execution_count": null,
   "metadata": {},
   "outputs": [],
   "source": [
    "import cv2 as cv\n",
    "import json\n",
    "import numpy as np\n",
    "import os\n",
    "from matplotlib import pyplot as plt\n",
    "from PIL import Image\n",
    "\n",
    "# expects fretboard dataset to be in data folder on same level as tabs_generator folder\n",
    "train_str = \"test\" # change to train or test to perform on respective data\n",
    "dataset_path = \"../data/fretboard_dataset/\"\n",
    "images_path = f\"../data/fretboard_dataset/fretboard_frames_{train_str}/\"\n",
    "image_fns = os.listdir(images_path)\n",
    "json_fn = os.path.join(dataset_path, f\"fretboard_labels_{train_str}_vgg.json\")\n",
    "f = open(json_fn)\n",
    "data = json.load(f) # data is dict of json contents\n",
    "\n",
    "for fn in image_fns:\n",
    "    img_path = os.path.join(images_path, fn)\n",
    "    out_path = os.path.join(images_path, \"annotated_\"+fn)\n",
    "    img = np.asarray(Image.open(img_path)) # loads images w/ range of 0:255\n",
    "    x_list = data[fn][\"regions\"][\"0\"][\"shape_attributes\"][\"all_points_x\"] # list of rectangle coordinates\n",
    "    y_list = data[fn][\"regions\"][\"0\"][\"shape_attributes\"][\"all_points_y\"]\n",
    "    x_list.pop(-1) # remove duplicate of first coordinate from end of lists\n",
    "    y_list.pop(-1)\n",
    "    poly_corners = np.asarray([list(zip(x_list, y_list))], dtype=np.int32) # repackage into np array w/ correct dtype\n",
    "    new_img = np.zeros((img.shape[0], img.shape[1]), np.uint8) # create empty binary image mask\n",
    "    new_img = cv.fillPoly(new_img, poly_corners, 255) # fill polygon of rectangle coordinates\n",
    "    Image.fromarray(new_img).save(out_path) # save output image"
   ]
  }
 ],
 "metadata": {
  "language_info": {
   "name": "python"
  }
 },
 "nbformat": 4,
 "nbformat_minor": 2
}
