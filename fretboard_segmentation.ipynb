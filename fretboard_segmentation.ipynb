{
 "cells": [
  {
   "cell_type": "code",
   "execution_count": 2,
   "metadata": {},
   "outputs": [
    {
     "name": "stdout",
     "output_type": "stream",
     "text": [
      "0 ) Loss= 0.8034248\n",
      "Saving Model0.torch\n",
      "1 ) Loss= 0.8034495\n"
     ]
    }
   ],
   "source": [
    "import os\n",
    "import numpy as np\n",
    "import cv2\n",
    "import torchvision.models.segmentation\n",
    "import torch\n",
    "import torchvision.transforms as tf\n",
    "\n",
    "Learning_Rate=1e-5\n",
    "width=height=900 # image width and height\n",
    "batchSize=3\n",
    "\n",
    "TrainFolder=\"../data/fretboard_dataset/fretboard_frames_train/\"\n",
    "fn_list=os.listdir(TrainFolder) # Create list of images\n",
    "ListImages = []\n",
    "for fn in fn_list:\n",
    "    if not \"annotated\" in fn:\n",
    "        ListImages.append(fn)\n",
    "\n",
    "#----------------------------------------------Transform image-------------------------------------------------------------------\n",
    "transformImg=tf.Compose([tf.ToPILImage(),tf.Resize((height,width)),tf.ToTensor(),tf.Normalize((0.485, 0.456, 0.406), (0.229, 0.224, 0.225))])\n",
    "transformAnn=tf.Compose([tf.ToPILImage(),tf.Resize((height,width),tf.InterpolationMode.NEAREST),tf.ToTensor()])\n",
    "#---------------------Read image ---------------------------------------------------------\n",
    "def ReadRandomImage(): # First lets load random image and  the corresponding annotation\n",
    "    idx=np.random.randint(0,len(ListImages)) # Select random image\n",
    "    Img=cv2.imread(os.path.join(TrainFolder, ListImages[idx]))[:,:,0:3]\n",
    "    Fretboard =  cv2.imread(os.path.join(TrainFolder, f\"annotated_{ListImages[idx]}\"),0)\n",
    "    AnnMap = np.zeros(Img.shape[0:2],np.float32)\n",
    "    if Fretboard is not None:  AnnMap[ Fretboard  == 1 ] = 1\n",
    "    Img=transformImg(Img)\n",
    "    AnnMap=transformAnn(AnnMap)\n",
    "    return Img,AnnMap\n",
    "#--------------Load batch of images-----------------------------------------------------\n",
    "def LoadBatch(): # Load batch of images\n",
    "    images = torch.zeros([batchSize,3,height,width])\n",
    "    ann = torch.zeros([batchSize, height, width])\n",
    "    for i in range(batchSize):\n",
    "        images[i],ann[i]=ReadRandomImage()\n",
    "    return images, ann\n",
    "#--------------Load and set net and optimizer-------------------------------------\n",
    "device = torch.device('cuda') if torch.cuda.is_available() else torch.device('cpu')\n",
    "Net = torchvision.models.segmentation.deeplabv3_resnet50(weights=torchvision.models.segmentation.DeepLabV3_ResNet50_Weights.DEFAULT) # Load net\n",
    "Net.classifier[4] = torch.nn.Conv2d(256, 2, kernel_size=(1, 1), stride=(1, 1)) # Change final layer to 3 classes\n",
    "Net=Net.to(device)\n",
    "optimizer=torch.optim.Adam(params=Net.parameters(),lr=Learning_Rate) # Create adam optimizer\n",
    "#----------------Train--------------------------------------------------------------------------\n",
    "for itr in range(10000): # Training loop\n",
    "   images,ann=LoadBatch() # Load taining batch\n",
    "   images=torch.autograd.Variable(images,requires_grad=False).to(device) # Load image\n",
    "   ann = torch.autograd.Variable(ann, requires_grad=False).to(device) # Load annotation\n",
    "   Pred=Net(images)['out'] # make prediction\n",
    "   Net.zero_grad()\n",
    "   criterion = torch.nn.CrossEntropyLoss() # Set loss function\n",
    "   Loss=criterion(Pred,ann.long()) # Calculate cross entropy loss\n",
    "   Loss.backward() # Backpropogate loss\n",
    "   optimizer.step() # Apply gradient descent change to weight\n",
    "   seg = torch.argmax(Pred[0], 0).cpu().detach().numpy()  # Get  prediction classes\n",
    "   print(itr,\") Loss=\",Loss.data.cpu().numpy())\n",
    "   if itr % 1000 == 0: #Save model weight every once in a while\n",
    "        print(\"Saving Model\" +str(itr) + \".torch\")\n",
    "        torch.save(Net.state_dict(),   str(itr) + \".torch\")"
   ]
  },
  {
   "cell_type": "code",
   "execution_count": null,
   "metadata": {},
   "outputs": [],
   "source": [
    "import cv2\n",
    "import torchvision.models.segmentation\n",
    "import torch\n",
    "import torchvision.transforms as tf\n",
    "import matplotlib.pyplot as plt\n",
    "modelPath = \"3000.torch\"  # Path to trained model\n",
    "imagePath = \"test.jpg\"  # Test image\n",
    "height=width=900\n",
    "transformImg = tf.Compose([tf.ToPILImage(), tf.Resize((height, width)), tf.ToTensor(),tf.Normalize((0.485, 0.456, 0.406),(0.229, 0.224, 0.225))])  # tf.Resize((300,600)),tf.RandomRotation(145)])#\n",
    "\n",
    "device = torch.device('cuda') if torch.cuda.is_available() else torch.device('cpu')  # Check if there is GPU if not set trainning to CPU (very slow)\n",
    "Net = torchvision.models.segmentation.deeplabv3_resnet50(pretrained=True)  # Load net\n",
    "Net.classifier[4] = torch.nn.Conv2d(256, 3, kernel_size=(1, 1), stride=(1, 1))  # Change final layer to 3 classes\n",
    "Net = Net.to(device)  # Set net to GPU or CPU\n",
    "Net.load_state_dict(torch.load(modelPath)) # Load trained model\n",
    "Net.eval() # Set to evaluation mode\n",
    "Img = cv2.imread(imagePath) # load test image\n",
    "height_orgin , widh_orgin ,d = Img.shape # Get image original size \n",
    "plt.imshow(Img[:,:,::-1])  # Show image\n",
    "plt.show()\n",
    "Img = transformImg(Img)  # Transform to pytorch\n",
    "Img = torch.autograd.Variable(Img, requires_grad=False).to(device).unsqueeze(0)\n",
    "with torch.no_grad():\n",
    "    Prd = Net(Img)['out']  # Run net\n",
    "Prd = tf.Resize((height_orgin,widh_orgin))(Prd[0]) # Resize to origninal size\n",
    "seg = torch.argmax(Prd, 0).cpu().detach().numpy()  # Get  prediction classes\n",
    "plt.imshow(seg)  # display image\n",
    "plt.show()"
   ]
  },
  {
   "cell_type": "code",
   "execution_count": null,
   "metadata": {},
   "outputs": [],
   "source": []
  }
 ],
 "metadata": {
  "kernelspec": {
   "display_name": "base",
   "language": "python",
   "name": "python3"
  },
  "language_info": {
   "codemirror_mode": {
    "name": "ipython",
    "version": 3
   },
   "file_extension": ".py",
   "mimetype": "text/x-python",
   "name": "python",
   "nbconvert_exporter": "python",
   "pygments_lexer": "ipython3",
   "version": "3.9.7"
  }
 },
 "nbformat": 4,
 "nbformat_minor": 2
}
