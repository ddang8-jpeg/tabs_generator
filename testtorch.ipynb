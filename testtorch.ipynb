{
 "cells": [
  {
   "cell_type": "code",
   "execution_count": 1,
   "id": "initial_id",
   "metadata": {
    "collapsed": true,
    "ExecuteTime": {
     "end_time": "2023-11-14T19:11:53.769009500Z",
     "start_time": "2023-11-14T19:11:46.390828200Z"
    }
   },
   "outputs": [
    {
     "name": "stdout",
     "output_type": "stream",
     "text": [
      "Using cuda device\n"
     ]
    }
   ],
   "source": [
    "import numpy as np\n",
    "import torch\n",
    "from torchvision.io import read_video\n",
    "from torch.utils.data import Dataset\n",
    "import os\n",
    "from note_detector.python.video_note_detector import generate_labels\n",
    "\n",
    "device = (\n",
    "    \"cuda\"\n",
    "    if torch.cuda.is_available()\n",
    "    else \"mps\"\n",
    "    if torch.backends.mps.is_available()\n",
    "    else \"cpu\"\n",
    ")\n",
    "print(f\"Using {device} device\")"
   ]
  },
  {
   "cell_type": "code",
   "execution_count": 2,
   "outputs": [],
   "source": [
    "# quick debug commands:\n",
    "\n",
    "vid_path, vid_name = \"./training_data/\", \"dumb_scale_youtube.mp4\"\n",
    "# cur_video_labels, num_frames = generate_labels(vid_path, vid_name)\n",
    "# video_frames, _, _ = read_video(vid_path + vid_name)\n",
    "# video_frames[0].shape\n"
   ],
   "metadata": {
    "collapsed": false,
    "ExecuteTime": {
     "end_time": "2023-11-14T19:11:53.769009500Z",
     "start_time": "2023-11-14T19:11:53.755875300Z"
    }
   },
   "id": "2a57351f5da9ae9c"
  },
  {
   "cell_type": "code",
   "execution_count": 3,
   "outputs": [],
   "source": [
    "# have > 1 video and need dataset to be a LINEARLY sampled set of images from each video, labeled with the note being played in that frame\n",
    "# we do know the length of the dataset given the number of videos bc it is (# videos) * (# samples taken per video [SPV])\n",
    "# in __init__: \n",
    "#   - Run the API conversion of all the videos to their labeled notes + which frame the note corresponds to - store these in an array; spot idx is the note for sampled image number idx\n",
    "#   - Extract all the frames from the videos and store them in an array; spot idx of the array is frame [idx % SPV] of video [floor of idx / SPV]\n",
    "# in __getitem__(idx), return the values (image, label) at spot idx of the 2 arrays created in __init__\n",
    "\n",
    "class NoteDataset(Dataset):\n",
    "    def __init__(self):\n",
    "        self.frame_labels = []\n",
    "        self.frames = []\n",
    "        \n",
    "        # loop over each training video to assign a label to each frame and aggregate them all in one training array(s)\n",
    "        for file in os.listdir(\"./training_data\"):\n",
    "            \n",
    "            # get frames of video and store them in self.frames\n",
    "            v_frames, _, _ = read_video(\"./training_data/%s\" % file)\n",
    "            for frame_num in range(v_frames.shape[0]):\n",
    "                self.frames.append(v_frames[frame_num])\n",
    "\n",
    "            \n",
    "            # use library to get labels for each frame\n",
    "            cur_video_labels, num_frames = generate_labels(\"./training_data/\", file)\n",
    "            tmp_label_aggregator = [[] for i in range(num_frames)]\n",
    "            for frame, note in cur_video_labels:\n",
    "                tmp_label_aggregator[int(frame)].append(note)\n",
    "            self.frame_labels.extend(tmp_label_aggregator)\n",
    "    \n",
    "    \n",
    "    def __len__(self):\n",
    "        return len(self.frame_labels)\n",
    "    \n",
    "    def __getitem__(self, idx):\n",
    "        return self.frames[idx], self.frame_labels[idx]"
   ],
   "metadata": {
    "collapsed": false,
    "ExecuteTime": {
     "end_time": "2023-11-14T19:11:53.777826900Z",
     "start_time": "2023-11-14T19:11:53.769009500Z"
    }
   },
   "id": "a87e86cabc7595c9"
  }
 ],
 "metadata": {
  "kernelspec": {
   "display_name": "Python 3",
   "language": "python",
   "name": "python3"
  },
  "language_info": {
   "codemirror_mode": {
    "name": "ipython",
    "version": 2
   },
   "file_extension": ".py",
   "mimetype": "text/x-python",
   "name": "python",
   "nbconvert_exporter": "python",
   "pygments_lexer": "ipython2",
   "version": "2.7.6"
  }
 },
 "nbformat": 4,
 "nbformat_minor": 5
}
