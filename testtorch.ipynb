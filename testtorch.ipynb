{
 "cells": [
  {
   "cell_type": "code",
   "execution_count": 1,
   "id": "initial_id",
   "metadata": {
    "collapsed": true,
    "ExecuteTime": {
     "end_time": "2023-11-13T03:29:31.456489100Z",
     "start_time": "2023-11-13T03:29:28.798945600Z"
    }
   },
   "outputs": [
    {
     "name": "stdout",
     "output_type": "stream",
     "text": [
      "Using cuda device\n"
     ]
    }
   ],
   "source": [
    "import torch\n",
    "from torch.utils.data import Dataset\n",
    "\n",
    "device = (\n",
    "    \"cuda\"\n",
    "    if torch.cuda.is_available()\n",
    "    else \"mps\"\n",
    "    if torch.backends.mps.is_available()\n",
    "    else \"cpu\"\n",
    ")\n",
    "print(f\"Using {device} device\")"
   ]
  },
  {
   "cell_type": "code",
   "execution_count": null,
   "outputs": [],
   "source": [
    "# have > 1 video and need dataset to be a LINEARLY sampled set of images from each video, labeled with the note being played in that frame\n",
    "# we do know the length of the dataset given the number of videos bc it is (# videos) * (# samples taken per video [SPV])\n",
    "# in __init__: \n",
    "#   - Run the API conversion of all the videos to their labeled notes + which frame the note corresponds to - store these in an array; spot idx is the note for sampled image number idx\n",
    "#   - Extract all the frames from the videos and store them in an array; spot idx of the array is frame [idx % SPV] of video [floor of idx / SPV]\n",
    "# in __getitem__(idx), return the values (image, label) at spot idx of the 2 arrays created in __init__\n",
    "\n",
    "class NoteDataset(Dataset):\n",
    "    def __init__(self):\n",
    "        # TODO: make arrays of sampled frames and corresponding labels\n",
    "        self.frame_labels = []\n",
    "        self.frames = []\n",
    "    \n",
    "    def __len__(self):\n",
    "        return len(self.frame_labels)\n",
    "    \n",
    "    def __getitem__(self, idx):\n",
    "        return self.frames[idx], self.frame_labels[idx]"
   ],
   "metadata": {
    "collapsed": false
   },
   "id": "a87e86cabc7595c9"
  }
 ],
 "metadata": {
  "kernelspec": {
   "display_name": "Python 3",
   "language": "python",
   "name": "python3"
  },
  "language_info": {
   "codemirror_mode": {
    "name": "ipython",
    "version": 2
   },
   "file_extension": ".py",
   "mimetype": "text/x-python",
   "name": "python",
   "nbconvert_exporter": "python",
   "pygments_lexer": "ipython2",
   "version": "2.7.6"
  }
 },
 "nbformat": 4,
 "nbformat_minor": 5
}
